{
  "cells": [
    {
      "cell_type": "markdown",
      "metadata": {},
      "source": [
        "### A simple demonstration of the effectiveness of RAG"
      ]
    },
    {
      "cell_type": "code",
      "execution_count": null,
      "metadata": {
        "colab": {
          "base_uri": "https://localhost:8080/"
        },
        "id": "8C-ifYjArK3V",
        "outputId": "71a9b127-8aa6-4374-cc09-e347631445eb"
      },
      "outputs": [],
      "source": [
        "!pip install llama_index -q"
      ]
    },
    {
      "cell_type": "code",
      "execution_count": null,
      "metadata": {
        "id": "t5BhdPD1ywdR"
      },
      "outputs": [],
      "source": [
        "from google.colab import userdata\n",
        "OPENAI_API_KEY = userdata.get('OPENAI_API_KEY')"
      ]
    },
    {
      "cell_type": "code",
      "execution_count": null,
      "metadata": {
        "id": "BFoP1g2Ev5hA"
      },
      "outputs": [],
      "source": [
        "from llama_index.core import SimpleDirectoryReader\n",
        "\n",
        "doc = SimpleDirectoryReader(\"./RAG\").load_data()"
      ]
    },
    {
      "cell_type": "code",
      "execution_count": null,
      "metadata": {
        "id": "NBqtbD1-wfSB"
      },
      "outputs": [],
      "source": [
        "from llama_index.core import VectorStoreIndex, Settings\n",
        "import openai\n",
        "\n",
        "openai.api_key = OPENAI_API_KEY\n",
        "vector_index = VectorStoreIndex.from_documents(doc)"
      ]
    },
    {
      "cell_type": "code",
      "execution_count": null,
      "metadata": {
        "id": "jj42OW2DIQ-3"
      },
      "outputs": [],
      "source": [
        "query_engine = vector_index.as_query_engine()"
      ]
    },
    {
      "cell_type": "code",
      "execution_count": null,
      "metadata": {
        "id": "IGujh6INIXfn"
      },
      "outputs": [],
      "source": [
        "from llama_index.llms.openai import OpenAI\n",
        "Settings.llm = OpenAI(model=\"gpt-3.5-turbo\", temperature=0)"
      ]
    },
    {
      "cell_type": "code",
      "execution_count": null,
      "metadata": {
        "id": "bwBAF15l0NXy"
      },
      "outputs": [],
      "source": [
        "from llama_index.core.retrievers import VectorIndexRetriever\n",
        "retriever = VectorIndexRetriever(\n",
        "    index=vector_index,\n",
        "    similarity_top_k=10,\n",
        ")"
      ]
    },
    {
      "cell_type": "code",
      "execution_count": null,
      "metadata": {
        "id": "-6hMdzeM0Yl8"
      },
      "outputs": [],
      "source": [
        "from llama_index.core import get_response_synthesizer\n",
        "response_synthesizer = get_response_synthesizer()"
      ]
    },
    {
      "cell_type": "code",
      "execution_count": null,
      "metadata": {
        "id": "-bzoHoYk0cmX"
      },
      "outputs": [],
      "source": [
        "from llama_index.core.query_engine import RetrieverQueryEngine\n",
        "from llama_index.core.postprocessor import SimilarityPostprocessor\n",
        "\n",
        "query_engine = RetrieverQueryEngine(\n",
        "    retriever=retriever,\n",
        "    response_synthesizer=response_synthesizer,\n",
        "    node_postprocessors=[SimilarityPostprocessor(similarity_cutoff=0.7)],\n",
        ")"
      ]
    },
    {
      "cell_type": "code",
      "execution_count": null,
      "metadata": {
        "id": "014EzcFF1WLg"
      },
      "outputs": [],
      "source": [
        "def query(query_engine, question):\n",
        "  response = query_engine.query(question)\n",
        "  return response"
      ]
    },
    {
      "cell_type": "code",
      "execution_count": null,
      "metadata": {
        "colab": {
          "base_uri": "https://localhost:8080/"
        },
        "id": "MfnZuoIS1Eey",
        "outputId": "1df19672-12cf-4d22-f744-c1834f770c8b"
      },
      "outputs": [],
      "source": [
        "questions = [\n",
        "    \n",
        "]\n",
        "\n",
        "responses = []\n",
        "\n",
        "for question in questions:\n",
        "  responses.append(query(query_engine, question))\n",
        "\n",
        "for response in responses:\n",
        "  print(response)"
      ]
    },
    {
      "cell_type": "code",
      "execution_count": null,
      "metadata": {
        "colab": {
          "base_uri": "https://localhost:8080/"
        },
        "id": "JK4mQJD61iEw",
        "outputId": "fc31e642-5096-446d-dbe3-a568477c4272"
      },
      "outputs": [],
      "source": [
        "questions = [\n",
        "    \n",
        "]\n",
        "\n",
        "responses = []\n",
        "\n",
        "for question in questions:\n",
        "  responses.append(query(query_engine, question))\n",
        "\n",
        "for response in responses:\n",
        "  print(response)"
      ]
    }
  ],
  "metadata": {
    "colab": {
      "provenance": []
    },
    "kernelspec": {
      "display_name": "Python 3",
      "name": "python3"
    },
    "language_info": {
      "name": "python"
    }
  },
  "nbformat": 4,
  "nbformat_minor": 0
}
